{
 "cells": [
  {
   "cell_type": "code",
   "execution_count": 1,
   "id": "0dafa1c0",
   "metadata": {},
   "outputs": [],
   "source": [
    "__shop__ = 'AINLP'\n",
    "__link__ = 'http://item.taobao.com/item.htm?id=637341876946'\n",
    "__date__ = 2022 / 4 / 23"
   ]
  },
  {
   "cell_type": "code",
   "execution_count": 2,
   "id": "d48d9fba",
   "metadata": {},
   "outputs": [],
   "source": [
    "try:\n",
    "    import torch\n",
    "except ImportError:\n",
    "    os.system('pip install torch -i https://pypi.tuna.tsinghua.edu.cn/simple')\n",
    "    import torch\n",
    "try:\n",
    "    from transformers import BertTokenizer, BertModel\n",
    "except ImportError:\n",
    "    os.system(\n",
    "        'pip install transformers -i https://pypi.tuna.tsinghua.edu.cn/simple')\n",
    "    from transformers import BertTokenizer, BertModel\n",
    "import os"
   ]
  },
  {
   "cell_type": "code",
   "execution_count": 13,
   "id": "1bc10d2d",
   "metadata": {},
   "outputs": [
    {
     "name": "stderr",
     "output_type": "stream",
     "text": [
      "Some weights of the model checkpoint at pretrain/output/checkpoint-3000 were not used when initializing BertModel: ['cls.predictions.transform.LayerNorm.weight', 'cls.predictions.decoder.bias', 'cls.predictions.bias', 'cls.predictions.transform.dense.bias', 'cls.predictions.decoder.weight', 'cls.predictions.transform.LayerNorm.bias', 'cls.predictions.transform.dense.weight']\n",
      "- This IS expected if you are initializing BertModel from the checkpoint of a model trained on another task or with another architecture (e.g. initializing a BertForSequenceClassification model from a BertForPreTraining model).\n",
      "- This IS NOT expected if you are initializing BertModel from the checkpoint of a model that you expect to be exactly identical (initializing a BertForSequenceClassification model from a BertForSequenceClassification model).\n",
      "Some weights of BertModel were not initialized from the model checkpoint at pretrain/output/checkpoint-3000 and are newly initialized: ['bert.pooler.dense.bias', 'bert.pooler.dense.weight']\n",
      "You should probably TRAIN this model on a down-stream task to be able to use it for predictions and inference.\n"
     ]
    }
   ],
   "source": [
    "model_path = 'pretrain/output/checkpoint-3000'\n",
    "tokenizer = BertTokenizer.from_pretrained(model_path)\n",
    "model = BertModel.from_pretrained(model_path)"
   ]
  },
  {
   "cell_type": "code",
   "execution_count": 14,
   "id": "b5de08b8",
   "metadata": {},
   "outputs": [],
   "source": [
    "word_embeddings = model.embeddings.word_embeddings.weight"
   ]
  },
  {
   "cell_type": "code",
   "execution_count": 15,
   "id": "e5b6df68",
   "metadata": {},
   "outputs": [
    {
     "data": {
      "text/plain": [
       "Parameter containing:\n",
       "tensor([[ 0.0258, -0.0047, -0.0044,  ...,  0.0296,  0.0238,  0.0196],\n",
       "        [ 0.0103, -0.0124,  0.0065,  ...,  0.0124,  0.0265,  0.0336],\n",
       "        [ 0.0214, -0.0018,  0.0185,  ...,  0.0074,  0.0271,  0.0054],\n",
       "        ...,\n",
       "        [ 0.0076,  0.0190,  0.0258,  ...,  0.0238,  0.0653,  0.0428],\n",
       "        [ 0.0175,  0.0163,  0.0251,  ...,  0.0329,  0.0061,  0.0211],\n",
       "        [ 0.0214,  0.0199, -0.0136,  ..., -0.0060,  0.0056, -0.0059]],\n",
       "       requires_grad=True)"
      ]
     },
     "execution_count": 15,
     "metadata": {},
     "output_type": "execute_result"
    }
   ],
   "source": [
    "word_embeddings"
   ]
  },
  {
   "cell_type": "code",
   "execution_count": 16,
   "id": "2cc8754d",
   "metadata": {},
   "outputs": [],
   "source": [
    "def get_embeeding(sentence):\n",
    "    embeddings = []\n",
    "    tokenized = tokenizer.batch_encode_plus([sentence])['input_ids']\n",
    "    embedded = word_embeddings[tokenized].mean(axis=0).unsqueeze(0)\n",
    "    return embedded"
   ]
  },
  {
   "cell_type": "code",
   "execution_count": 17,
   "id": "0ee2ee4e",
   "metadata": {},
   "outputs": [],
   "source": [
    "@torch.no_grad()\n",
    "def compute_sim(sentence_a, sentence_b):\n",
    "    embed_a = get_embeeding(sentence_a)\n",
    "    embed_b = get_embeeding(sentence_b)\n",
    "    embedding_a_tensor_norm = embed_a / embed_a.norm(dim=1)[:, None]\n",
    "    embedding_b_tensor_norm = embed_b / embed_b.norm(dim=1)[:, None]\n",
    "    sim = torch.mm(embedding_a_tensor_norm, embedding_b_tensor_norm.transpose(0, 1)).squeeze(0)\n",
    "    return sim.numpy()[0]"
   ]
  },
  {
   "cell_type": "code",
   "execution_count": 18,
   "id": "a858731d",
   "metadata": {},
   "outputs": [
    {
     "data": {
      "text/plain": [
       "0.49921876"
      ]
     },
     "execution_count": 18,
     "metadata": {},
     "output_type": "execute_result"
    }
   ],
   "source": [
    "compute_sim('Perovskite', 'photovoltaic')"
   ]
  },
  {
   "cell_type": "code",
   "execution_count": 19,
   "id": "8f6a4095",
   "metadata": {},
   "outputs": [
    {
     "data": {
      "text/plain": [
       "0.51279104"
      ]
     },
     "execution_count": 19,
     "metadata": {},
     "output_type": "execute_result"
    }
   ],
   "source": [
    "compute_sim('Perovskite', '光伏')"
   ]
  }
 ],
 "metadata": {
  "kernelspec": {
   "display_name": "Python 3",
   "language": "python",
   "name": "python3"
  },
  "language_info": {
   "codemirror_mode": {
    "name": "ipython",
    "version": 3
   },
   "file_extension": ".py",
   "mimetype": "text/x-python",
   "name": "python",
   "nbconvert_exporter": "python",
   "pygments_lexer": "ipython3",
   "version": "3.7.0"
  }
 },
 "nbformat": 4,
 "nbformat_minor": 5
}
